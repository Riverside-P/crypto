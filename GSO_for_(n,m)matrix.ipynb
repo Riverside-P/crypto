{
 "cells": [
  {
   "cell_type": "markdown",
   "id": "d5aa3639",
   "metadata": {},
   "source": [
    "$n$ 次元格子 $L \\subseteq \\mathbb{R}^m$ の順序付き基底 $\\{ \\mathbb{b_1} \\dots \\mathbb{b_n}  \\}$ を\n",
    "$n \\times m$ 行列として受け取り、それに対してGram-Schmidtアルゴリズムを実行し、入力基底のGSOベクトルとGSO係数を出力するアルゴリズム"
   ]
  },
  {
   "cell_type": "code",
   "execution_count": 11,
   "id": "de4691af",
   "metadata": {},
   "outputs": [],
   "source": [
    "import numpy as np\n",
    "\n",
    "def input_basis_form():\n",
    "  print(\"Enter the dimension of the lattice.\")\n",
    "  print(\"Enter each basis vector of the lattice\")\n",
    "  n = int(input())\n",
    "  B = np.array([list(map(int,input().split())) for _ in range(n)])\n",
    "  return B\n",
    "\n",
    "# 基底行列を入力するとそれらのGSOベクトルからなる行列とGSO係数からなる行列を出力するアルゴリズム\n",
    "# サブルーチン用\n",
    "def GSO_sub(B):\n",
    "  # Bの行数（基底ベクトルの本数）をnとする\n",
    "  n = len(B)\n",
    "  # Bと同じサイズのゼロ行列(浮動小数点数成分)を生成\n",
    "  # ここにGSOの結果を入れていく予定\n",
    "  B_star = np.zeros_like(B, dtype=float)\n",
    "  # GSO係数行列のベースを作成\n",
    "  mu = np.eye(2, dtype=float)\n",
    "\n",
    "  for i in range(n):\n",
    "    B_star[i] = B[i]\n",
    "    for j in range(i):\n",
    "      mu[i,j] = np.dot(B[i], B_star[j]) / np.dot(B_star[j], B_star[j])\n",
    "      B_star[i] -= mu[i,j] * B_star[j]\n",
    "  # B_star(GSOベクトル行列)とmu(GSO係数行列)を出力\n",
    "  return B_star, mu\n",
    "\n",
    "# 基底行列を入力するとそれらのGSOベクトルからなる行列とGSO係数からなる行列を出力するアルゴリズム\n",
    "# メイン処理用\n",
    "def GSO():\n",
    "  B = input_basis_form()\n",
    "  return GSO_sub(B)"
   ]
  },
  {
   "cell_type": "markdown",
   "id": "e8d92bc5",
   "metadata": {},
   "source": [
    "動作テスト"
   ]
  },
  {
   "cell_type": "code",
   "execution_count": 6,
   "id": "da242ce5",
   "metadata": {},
   "outputs": [
    {
     "name": "stdout",
     "output_type": "stream",
     "text": [
      "Enter the dimension of the lattice\n",
      "Enter each basis vector of the lattice\n"
     ]
    },
    {
     "data": {
      "text/plain": [
       "array([[1, 2],\n",
       "       [3, 4]])"
      ]
     },
     "execution_count": 6,
     "metadata": {},
     "output_type": "execute_result"
    }
   ],
   "source": [
    "input_basis_form()"
   ]
  },
  {
   "cell_type": "code",
   "execution_count": 9,
   "id": "2b640cf9",
   "metadata": {},
   "outputs": [
    {
     "data": {
      "text/plain": [
       "(array([[ 1.        ,  2.        ,  3.        ],\n",
       "        [ 1.71428571,  0.42857143, -0.85714286]]),\n",
       " array([[1.        , 0.        ],\n",
       "        [2.28571429, 1.        ]]))"
      ]
     },
     "execution_count": 9,
     "metadata": {},
     "output_type": "execute_result"
    }
   ],
   "source": [
    "B = np.array([[1, 2, 3], [4, 5, 6]])\n",
    "GSO_sub(B)"
   ]
  },
  {
   "cell_type": "code",
   "execution_count": 12,
   "id": "695b035a",
   "metadata": {},
   "outputs": [
    {
     "name": "stdout",
     "output_type": "stream",
     "text": [
      "Enter the dimension of the lattice.\n",
      "Enter each basis vector of the lattice\n"
     ]
    },
    {
     "data": {
      "text/plain": [
       "(array([[ 1. ,  2. ],\n",
       "        [ 0.8, -0.4]]),\n",
       " array([[1. , 0. ],\n",
       "        [2.2, 1. ]]))"
      ]
     },
     "execution_count": 12,
     "metadata": {},
     "output_type": "execute_result"
    }
   ],
   "source": [
    "GSO()"
   ]
  }
 ],
 "metadata": {
  "kernelspec": {
   "display_name": "Python 3",
   "language": "python",
   "name": "python3"
  },
  "language_info": {
   "codemirror_mode": {
    "name": "ipython",
    "version": 3
   },
   "file_extension": ".py",
   "mimetype": "text/x-python",
   "name": "python",
   "nbconvert_exporter": "python",
   "pygments_lexer": "ipython3",
   "version": "3.12.10"
  }
 },
 "nbformat": 4,
 "nbformat_minor": 5
}
