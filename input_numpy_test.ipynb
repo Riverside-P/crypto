{
 "cells": [
  {
   "cell_type": "markdown",
   "id": "0b7d254b",
   "metadata": {},
   "source": [
    "### 目的：簡単なインプットをnumpy配列に変換できるようにすること\n",
    "とはいえ、いきなりn×n扱うのはしんどいので、まずは普通の配列や数から確認してみる"
   ]
  },
  {
   "cell_type": "code",
   "execution_count": 15,
   "id": "2c240439",
   "metadata": {},
   "outputs": [
    {
     "name": "stdout",
     "output_type": "stream",
     "text": [
      "1\n",
      "<class 'str'>\n"
     ]
    }
   ],
   "source": [
    "# 入力された数字を変数に代入\n",
    "n = input()\n",
    "# nとnの型を出力\n",
    "print(n)\n",
    "print(type(n))"
   ]
  },
  {
   "cell_type": "code",
   "execution_count": 16,
   "id": "6d8f8c01",
   "metadata": {},
   "outputs": [
    {
     "name": "stdout",
     "output_type": "stream",
     "text": [
      "1\n",
      "<class 'int'>\n"
     ]
    }
   ],
   "source": [
    "# 入力された数字を文字列からINT型に変換\n",
    "n = int(input())\n",
    "# nとnの型を出力\n",
    "print(n)\n",
    "print(type(n))"
   ]
  },
  {
   "cell_type": "code",
   "execution_count": 18,
   "id": "15948246",
   "metadata": {},
   "outputs": [
    {
     "name": "stdout",
     "output_type": "stream",
     "text": [
      "[1, 2, 3]\n",
      "<class 'list'>\n",
      "<class 'int'>\n"
     ]
    }
   ],
   "source": [
    "# 1×nのINT型のデータからなる配列を入力から生成するコード\n",
    "# 入力方法は\n",
    "# 3\n",
    "# 1 2 3\n",
    "# のようにする。こうすると\n",
    "# array = [1, 2, 3]\n",
    "# のようになる\n",
    "n = int(input())\n",
    "array = list(map(int, input().split()))\n",
    "# arrayとarrayの型、arrayの最初の要素の型を出力\n",
    "print(array)\n",
    "print(type(array))\n",
    "print(type(array[0]))"
   ]
  },
  {
   "cell_type": "code",
   "execution_count": null,
   "id": "52814207",
   "metadata": {},
   "outputs": [
    {
     "name": "stdout",
     "output_type": "stream",
     "text": [
      "[2, 3]\n",
      "[[1, 2, 3], [4, 5, 6]]\n"
     ]
    }
   ],
   "source": [
    "# n×mのINT型のデータからなる配列を入力値から生成するコード\n",
    "# 入力方法は\n",
    "# 2 3\n",
    "# 1 2 3\n",
    "# 4 5 6\n",
    "# のようにする。こうすると\n",
    "# array = [[1, 2, 3], [4, 5, 6]]\n",
    "# のようになる\n",
    "size = list(map(int, input().split()))\n",
    "array = [list(map(int,input().split())) for i in range(size[0])]\n",
    "print(size)\n",
    "print(array)"
   ]
  },
  {
   "cell_type": "markdown",
   "id": "e6299a83",
   "metadata": {},
   "source": [
    "#### NumPyの利用\n",
    "NumpyはPythonで数値計算を行うためのライブラリで、特に行列や多次元配列の操作が得意<br>\n",
    "なぜ高速なの？->NumPyの内部ではC(とFortran)が動いているから。これにより、動的型付け言語であるPythonにおいても高速な計算が実現できる<br>\n",
    "NumPyを用いるには `import numpy as np` でNumPyライブラリをインポートする必要がある<br>\n",
    "これにより、 `np.メソッド名` という形でNumPyが提供するメソッドを利用できる"
   ]
  },
  {
   "cell_type": "code",
   "execution_count": 6,
   "id": "1361bd7d",
   "metadata": {},
   "outputs": [],
   "source": [
    "# NumPyのインポート\n",
    "import numpy as np"
   ]
  },
  {
   "cell_type": "markdown",
   "id": "1e5ac2da",
   "metadata": {},
   "source": [
    "まずは配列をNumpy配列に変換したうえで、Numpyの提供するメソッドを用いて、いろんな処理を実行してみよう"
   ]
  },
  {
   "cell_type": "markdown",
   "id": "cb778ee4",
   "metadata": {},
   "source": [
    "相互変換"
   ]
  },
  {
   "cell_type": "code",
   "execution_count": 7,
   "id": "fe7011e6",
   "metadata": {},
   "outputs": [
    {
     "name": "stdout",
     "output_type": "stream",
     "text": [
      "[[1, 2, 3], [4, 5, 6], [7, 8, 9]]\n",
      "<class 'list'>\n",
      "[[1 2 3]\n",
      " [4 5 6]\n",
      " [7 8 9]]\n",
      "<class 'numpy.ndarray'>\n",
      "<class 'list'>\n"
     ]
    }
   ],
   "source": [
    "array = [[1, 2, 3],[4, 5, 6], [7, 8, 9]]\n",
    "print(array)\n",
    "# arrayの型を確認\n",
    "print(type(array))\n",
    "# 配列をNumPy配列に変換\n",
    "array = np.array(array)\n",
    "print(array)\n",
    "# もう一度arrayの型を確認\n",
    "print(type(array))\n",
    "# Numpy配列から普通の配列に戻す\n",
    "array = array.tolist()\n",
    "print(type(array))\n",
    "# 今後の展開のためにNumPy配列に戻しておく\n",
    "array = np.array(array)"
   ]
  },
  {
   "cell_type": "markdown",
   "id": "f81b8ddf",
   "metadata": {},
   "source": [
    "型・次元"
   ]
  },
  {
   "cell_type": "code",
   "execution_count": 8,
   "id": "89d43eab",
   "metadata": {},
   "outputs": [
    {
     "name": "stdout",
     "output_type": "stream",
     "text": [
      "the shape of the array is\n",
      "(3, 3)\n",
      "the dimention of the array is\n",
      "2\n"
     ]
    }
   ],
   "source": [
    "# 配列の形状を出力\n",
    "print(\"the shape of the array is\")\n",
    "print(array.shape)\n",
    "# 配列の次元を出力\n",
    "print(\"the dimention of the array is\")\n",
    "print(array.ndim)"
   ]
  },
  {
   "cell_type": "markdown",
   "id": "525823fa",
   "metadata": {},
   "source": [
    "要素や行、列を取り出す"
   ]
  },
  {
   "cell_type": "code",
   "execution_count": 9,
   "id": "2e0048f6",
   "metadata": {},
   "outputs": [
    {
     "name": "stdout",
     "output_type": "stream",
     "text": [
      "(1,2) entry is\n",
      "2\n",
      "the 1st row is\n",
      "[1 2 3]\n",
      "the 2nd column is\n",
      "[2 5 8]\n"
     ]
    }
   ],
   "source": [
    "# 配列の要素へのアクセス(0オリジンであることに注意)\n",
    "print(\"(1,2) entry is\")\n",
    "print(array[0,1])\n",
    "# 1行目を取り出す(0オリジン以下略)\n",
    "print(\"the 1st row is\")\n",
    "print(array[0, :])\n",
    "# 2列目を取り出す\n",
    "print(\"the 2nd column is\")\n",
    "print(array[:, 1])"
   ]
  },
  {
   "cell_type": "markdown",
   "id": "59fe9ba9",
   "metadata": {},
   "source": [
    "配列の演算"
   ]
  },
  {
   "cell_type": "code",
   "execution_count": 10,
   "id": "052ab7fc",
   "metadata": {},
   "outputs": [
    {
     "name": "stdout",
     "output_type": "stream",
     "text": [
      "sum\n",
      "[[10 10 10]\n",
      " [10 10 10]\n",
      " [10 10 10]]\n",
      "difference\n",
      "[[-8 -6 -4]\n",
      " [-2  0  2]\n",
      " [ 4  6  8]]\n",
      "scalar multiplication\n",
      "[[ 3  6  9]\n",
      " [12 15 18]\n",
      " [21 24 27]]\n",
      "dot product\n",
      "[[ 30  24  18]\n",
      " [ 84  69  54]\n",
      " [138 114  90]]\n",
      "matrix multiplication\n",
      "[[ 30  24  18]\n",
      " [ 84  69  54]\n",
      " [138 114  90]]\n",
      "transposed array\n",
      "[[1 4 7]\n",
      " [2 5 8]\n",
      " [3 6 9]]\n"
     ]
    }
   ],
   "source": [
    "array_2 = np.array([[9, 8, 7], [6, 5, 4], [3, 2, 1]])\n",
    "c = 3\n",
    "# 和\n",
    "print(\"sum\")\n",
    "print(array + array_2)\n",
    "# 差\n",
    "print(\"difference\")\n",
    "print(array - array_2)\n",
    "# スカラー倍\n",
    "print(\"scalar multiplication\")\n",
    "print(array * c)\n",
    "# ドット積(内積)\n",
    "print(\"dot product\")\n",
    "print(np.dot(array, array_2))\n",
    "# 積\n",
    "print(\"matrix multiplication\")\n",
    "print(np.matmul(array, array_2))\n",
    "# 転置\n",
    "print(\"transposed array\")\n",
    "print(array.T)"
   ]
  },
  {
   "cell_type": "markdown",
   "id": "fcfae1c9",
   "metadata": {},
   "source": [
    "より高度な操作"
   ]
  },
  {
   "cell_type": "code",
   "execution_count": 11,
   "id": "e75eeea6",
   "metadata": {},
   "outputs": [
    {
     "name": "stdout",
     "output_type": "stream",
     "text": [
      "the determinant of the array is\n",
      "0.0\n",
      "the rank of the array is\n",
      "2\n",
      "the inverse matrix of the array is\n",
      "[[-2.   1. ]\n",
      " [ 1.5 -0.5]]\n"
     ]
    }
   ],
   "source": [
    "# 行列式\n",
    "print(\"the determinant of the array is\")\n",
    "print(np.linalg.det(array))\n",
    "# ランク\n",
    "print(\"the rank of the array is\")\n",
    "print(np.linalg.matrix_rank(array))\n",
    "# 逆行列\n",
    "arr = np.array([[1,2],[3,4]])\n",
    "print(\"the inverse matrix of the array is\")\n",
    "print(np.linalg.inv(arr))"
   ]
  },
  {
   "cell_type": "markdown",
   "id": "d5dd68c1",
   "metadata": {},
   "source": [
    "ランダムな行列の生成"
   ]
  },
  {
   "cell_type": "code",
   "execution_count": 12,
   "id": "439d8f23",
   "metadata": {},
   "outputs": [
    {
     "name": "stdout",
     "output_type": "stream",
     "text": [
      "a matrix of random integers:\n",
      "[[3 6 3]\n",
      " [9 8 9]\n",
      " [0 6 8]]\n",
      "a matrix of random floating point numbers:\n",
      "[[0.99594784 0.01268489 0.54651586]\n",
      " [0.48969736 0.36273384 0.44011177]\n",
      " [0.4737901  0.57474723 0.23848504]]\n"
     ]
    }
   ],
   "source": [
    "# 3x3のランダムな整数行列を生成（0から10未満の整数）\n",
    "random_int = np.random.randint(0, 10, size=(3, 3))\n",
    "print(\"a matrix of random integers:\")\n",
    "print(random_int)\n",
    "\n",
    "# 3x3のランダムな浮動小数点数行列を生成（0から1未満）\n",
    "random_float = np.random.rand(3, 3)\n",
    "print(\"a matrix of random floating point numbers:\")\n",
    "print(random_float)"
   ]
  },
  {
   "cell_type": "markdown",
   "id": "ae6559f7",
   "metadata": {},
   "source": [
    "ランダムな整数係数フルランク行列を生成（やっつけバージョン）"
   ]
  },
  {
   "cell_type": "code",
   "execution_count": 13,
   "id": "392b4b3a",
   "metadata": {},
   "outputs": [],
   "source": [
    "def create_randint_fullrank_matrix():\n",
    "  print(\"Enter the size of matrix\")\n",
    "  s = list(map(int, input().split()))\n",
    "  row = s[0]\n",
    "  col = s[1]\n",
    "  while True:\n",
    "    rand = np.random.randint(-100, 100, size=(row, col))\n",
    "    if np.linalg.matrix_rank(rand) == row:\n",
    "      return rand\n",
    "    else:\n",
    "      continue"
   ]
  },
  {
   "cell_type": "code",
   "execution_count": null,
   "id": "598a1517",
   "metadata": {},
   "outputs": [
    {
     "name": "stdout",
     "output_type": "stream",
     "text": [
      "Enter the size of matrix\n"
     ]
    }
   ],
   "source": [
    "rand = create_randint_fullrank_matrix()\n",
    "print(rand)"
   ]
  }
 ],
 "metadata": {
  "kernelspec": {
   "display_name": "Python 3",
   "language": "python",
   "name": "python3"
  },
  "language_info": {
   "codemirror_mode": {
    "name": "ipython",
    "version": 3
   },
   "file_extension": ".py",
   "mimetype": "text/x-python",
   "name": "python",
   "nbconvert_exporter": "python",
   "pygments_lexer": "ipython3",
   "version": "3.12.10"
  }
 },
 "nbformat": 4,
 "nbformat_minor": 5
}
