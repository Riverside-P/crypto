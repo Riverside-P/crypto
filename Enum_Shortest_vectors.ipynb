{
 "cells": [
  {
   "cell_type": "markdown",
   "id": "0694b4ed",
   "metadata": {},
   "source": [
    "格子上の最短ベクトルの数え上げを行うアルゴリズム<br>\n",
    "入力： $n$ 次元格子 $L$ の基底のGSO係数 $\\mu_{i,j} (1 \\leq j < i \\leq n)$, \n",
    "GSOベクトルの二乗ノルム $B_i = \\| \\mathbb{b_i^\\star} \\|^2 (1 \\leq i \\leq n)$, \n",
    "数え上げ上界列 $R_1^2 \\leq \\cdots \\leq R_n^2$<br>\n",
    "出力：すべての $1 \\leq k \\leq n$ に対して $\\| \\pi_k(\\mathbb{v}) \\|^2 \\leq R_{n+1-k}^2$ を満たす格子ベクトル<br>\n",
    "　　　$\\mathbb{v} = \\sum_{i=1}^n v_i \\mathbb{b_i} \\in L$ の係数ベクトル $(v_1, \\dots, v_n) \\in \\mathbb{Z}^n$ ( $v$ が存在する場合)"
   ]
  },
  {
   "cell_type": "markdown",
   "id": "9ed87090",
   "metadata": {},
   "source": [
    "事前準備"
   ]
  },
  {
   "cell_type": "code",
   "execution_count": 8,
   "id": "c25945e2",
   "metadata": {},
   "outputs": [],
   "source": [
    "import numpy as np\n",
    "import math\n",
    "\n",
    "def input_basis_form():\n",
    "  print(\"Enter the dimension of the lattice.\")\n",
    "  print(\"Enter each basis vector of the lattice\")\n",
    "  n = int(input())\n",
    "  B = np.array([list(map(int,input().split())) for _ in range(n)])\n",
    "  return B\n",
    "\n",
    "# 基底行列を入力するとそれらのGSOベクトルからなる行列とGSO係数からなる行列を出力するアルゴリズム\n",
    "# サブルーチン用\n",
    "def GSO(B):\n",
    "  # Bの行数（基底ベクトルの本数）をnとする\n",
    "  n = len(B)\n",
    "  # Bと同じサイズのゼロ行列(浮動小数点数成分)を生成\n",
    "  # ここにGSOの結果を入れていく予定\n",
    "  B_star = np.zeros_like(B, dtype=float)\n",
    "  # GSO係数行列のベースを作成\n",
    "  mu = np.eye(n, dtype=float)\n",
    "\n",
    "  for i in range(n):\n",
    "    B_star[i] = B[i]\n",
    "    for j in range(i):\n",
    "      mu[i,j] = np.dot(B[i], B_star[j]) / np.dot(B_star[j], B_star[j])\n",
    "      B_star[i] -= mu[i,j] * B_star[j]\n",
    "  # B_star(GSOベクトル行列)とmu(GSO係数行列)を出力\n",
    "  return B_star, mu\n",
    "\n",
    "# 基底行列を入力するとそれらのGSOベクトルからなる行列とGSO係数からなる行列を出力するアルゴリズム\n",
    "# メイン処理用\n",
    "def GSO_main():\n",
    "  B = input_basis_form()\n",
    "  return GSO(B)\n",
    "\n",
    "# GSO係数とGSOベクトルの二乗ノルムを出力するアルゴリズム\n",
    "def GSO_coeffs_sqnorms(B):\n",
    "  B_star,mu = GSO(B)\n",
    "  B_sqnorm = np.array([np.dot(B_star[i],B_star[i]) for i in range(len(B))])\n",
    "  return B_sqnorm, mu"
   ]
  },
  {
   "cell_type": "markdown",
   "id": "672afe9a",
   "metadata": {},
   "source": [
    "数え上げ上界列を受け取るアルゴリズムを定義"
   ]
  },
  {
   "cell_type": "code",
   "execution_count": 9,
   "id": "7e3286d8",
   "metadata": {},
   "outputs": [],
   "source": [
    "def input_enum_upperbound_seq():\n",
    "  print(\"Enter an enumeration upper bound sequence as R_1^2 R_2^2 ... R_n^2.\")\n",
    "  R = list(map(float, input().split()))\n",
    "  return R"
   ]
  },
  {
   "cell_type": "markdown",
   "id": "71bee090",
   "metadata": {},
   "source": [
    "本題のアルゴリズムを定義（サブルーチン用）"
   ]
  },
  {
   "cell_type": "code",
   "execution_count": 12,
   "id": "12fc0121",
   "metadata": {},
   "outputs": [],
   "source": [
    "def enum_shortest_vec(B_sqnorm, mu, R):\n",
    "  n = len(B_sqnorm)\n",
    "  sigma = np.zeros(shape=(n+1,n), dtype=float)\n",
    "  r = [i for i in range(n+1)]\n",
    "  rho = [float(0) for i in range(n+1)]\n",
    "  v = [0 for i in range(n)]\n",
    "  c = [0 for i in range(n)]\n",
    "  w = [0 for i in range(n)]\n",
    "  v[0] = 1\n",
    "  last_nonzero = 1\n",
    "  k=0\n",
    "  while True:\n",
    "    rho[k] = rho[k+1] + (v[k] - c[k])**2 * B_sqnorm[k]\n",
    "    if rho[k] <= R[n-1-k]:\n",
    "      if k == 0:\n",
    "        return v\n",
    "      k -= 1\n",
    "      r[k] = max(r[k+1], r[k])\n",
    "      for i in range(r[k+1],k,-1):\n",
    "        sigma[i,k] = sigma[i+1,k] + mu[i,k] * v[i]\n",
    "      c[k] = -sigma[k+1,k]\n",
    "      v[k] = round(c[k])\n",
    "      w[k] = 1\n",
    "    else:\n",
    "      k += 1\n",
    "      if k == n:\n",
    "        return \"none\"\n",
    "      r[k] = k\n",
    "      if k >= last_nonzero:\n",
    "        last_nonzero = k\n",
    "        v[k] += 1\n",
    "      else:\n",
    "        if v[k] > c[k]:\n",
    "          v[k] -= w[k]\n",
    "        else:\n",
    "          v[k] += w[k]\n",
    "        w[k] += 1"
   ]
  },
  {
   "cell_type": "markdown",
   "id": "8242164b",
   "metadata": {},
   "source": [
    "実際に用いてみる"
   ]
  },
  {
   "cell_type": "code",
   "execution_count": 24,
   "id": "93526018",
   "metadata": {},
   "outputs": [
    {
     "name": "stdout",
     "output_type": "stream",
     "text": [
      "the squared norms of the GSO vectors are\n",
      "[1.49430000e+04 1.00737428e+04 3.01527354e+03 7.03392732e+02\n",
      " 3.41094435e-10]\n",
      "GSO coefficient matrix is\n",
      "[[ 1.          0.          0.          0.          0.        ]\n",
      " [-0.06297263  1.          0.          0.          0.        ]\n",
      " [ 0.17928127  1.07305735  1.          0.          0.        ]\n",
      " [ 0.93046912  0.31890545 -0.43777128  1.          0.        ]\n",
      " [ 0.53770996  0.33393597  0.72786965 -2.94334071  1.        ]]\n",
      "[np.float64(2958.714), np.float64(5917.428), np.float64(8876.142), np.float64(11834.856), np.float64(14793.57)]\n"
     ]
    },
    {
     "data": {
      "text/plain": [
       "[0, 1, 0, 0, 0]"
      ]
     },
     "execution_count": 24,
     "metadata": {},
     "output_type": "execute_result"
    }
   ],
   "source": [
    "B = np.array([[63, -14, -1, 84, 61],\n",
    "              [74, -20, 23, -32, -52],\n",
    "              [93, -46, -19, 0, -63],\n",
    "              [93, 11, 13, 60, 52],\n",
    "              [33, -93, 12, 57, -2]])\n",
    "B_sqnorm, mu = GSO_coeffs_sqnorms(B)\n",
    "print(\"the squared norms of the GSO vectors are\")\n",
    "print(B_sqnorm)\n",
    "print(\"GSO coefficient matrix is\")\n",
    "print(mu)\n",
    "\n",
    "R_5 = B_sqnorm[0] * 0.99\n",
    "R = [(k+1)/5 * R_5 for k in range(5)]\n",
    "print(R)\n",
    "#vol = math.sqrt(np.prod(B_sqnorm))\n",
    "#upper_bound = math.sqrt(5) ** math.pow(vol, 1/5)\n",
    "#R = [upper_bound for i in range(5)]\n",
    "enum_shortest_vec(B_sqnorm, mu, R)"
   ]
  }
 ],
 "metadata": {
  "kernelspec": {
   "display_name": "Python 3",
   "language": "python",
   "name": "python3"
  },
  "language_info": {
   "codemirror_mode": {
    "name": "ipython",
    "version": 3
   },
   "file_extension": ".py",
   "mimetype": "text/x-python",
   "name": "python",
   "nbconvert_exporter": "python",
   "pygments_lexer": "ipython3",
   "version": "3.12.10"
  }
 },
 "nbformat": 4,
 "nbformat_minor": 5
}
